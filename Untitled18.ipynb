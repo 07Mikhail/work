{
 "cells": [
  {
   "cell_type": "markdown",
   "metadata": {},
   "source": [
    "## *Алгоритм:*\n",
    " 1. Импортируем необходимые библиотеки\n",
    " 2. Коннектимся к серверу\n",
    " 3. Изучаем, просматриваем текущий каталог\n",
    " 4. Заходим в необходимый каталог\n",
    " 5. Смотрим последний загруженный zip-архив в каталог\n",
    " 6. Загружаем необходимый zip-архив в наш рабочий каталог с логированием\n",
    " 7. Проверяем наличие загруженного файла"
   ]
  },
  {
   "cell_type": "markdown",
   "metadata": {},
   "source": [
    "#### Необходимые библиотеки"
   ]
  },
  {
   "cell_type": "code",
   "execution_count": 133,
   "metadata": {},
   "outputs": [],
   "source": [
    "from ftplib import FTP ## для взаимодействия с FTP-сервером\n",
    "from zipfile import ZipFile\n",
    "from io import StringIO\n",
    "import urllib.request as ur\n",
    "import sys, os, io, urllib, datetime"
   ]
  },
  {
   "cell_type": "markdown",
   "metadata": {},
   "source": [
    "#### Коннектимся к FTP-серверу"
   ]
  },
  {
   "cell_type": "code",
   "execution_count": 134,
   "metadata": {},
   "outputs": [
    {
     "data": {
      "text/plain": [
       "'220 (vsFTPd 3.0.2)'"
      ]
     },
     "execution_count": 134,
     "metadata": {},
     "output_type": "execute_result"
    }
   ],
   "source": [
    "host = 'ftp.zakupki.gov.ru'\n",
    "login = ''\n",
    "password = ''\n",
    "timeout=120\n",
    "\n",
    "ftp = FTP(host, login, password, timeout)\n",
    "ftp.encoding = 'utf-8'\n",
    "ftp.welcome"
   ]
  },
  {
   "cell_type": "markdown",
   "metadata": {},
   "source": [
    "#### Все файлы и папки в текущем рабочем каталоге FTP-сервера"
   ]
  },
  {
   "cell_type": "code",
   "execution_count": 135,
   "metadata": {},
   "outputs": [
    {
     "data": {
      "text/plain": [
       "['94fz',\n",
       " '_readme.txt',\n",
       " 'customer_verification',\n",
       " 'fcs_SFM',\n",
       " 'fcs_banks',\n",
       " 'fcs_banks_hidden',\n",
       " 'fcs_discussion',\n",
       " 'fcs_fas',\n",
       " 'fcs_nsi',\n",
       " 'fcs_regions',\n",
       " 'fcs_rules',\n",
       " 'fcs_sc',\n",
       " 'offline_rw',\n",
       " 'prevMonth',\n",
       " 'rnp',\n",
       " 'тест.txt']"
      ]
     },
     "execution_count": 135,
     "metadata": {},
     "output_type": "execute_result"
    }
   ],
   "source": [
    "ftp.nlst() "
   ]
  },
  {
   "cell_type": "markdown",
   "metadata": {},
   "source": [
    "#### Меняем каталог"
   ]
  },
  {
   "cell_type": "code",
   "execution_count": 136,
   "metadata": {},
   "outputs": [
    {
     "data": {
      "text/plain": [
       "'250 Directory successfully changed.'"
      ]
     },
     "execution_count": 136,
     "metadata": {},
     "output_type": "execute_result"
    }
   ],
   "source": [
    "ftp.cwd('fcs_regions')"
   ]
  },
  {
   "cell_type": "code",
   "execution_count": 137,
   "metadata": {},
   "outputs": [
    {
     "data": {
      "text/plain": [
       "['1.txt',\n",
       " '1214.sh',\n",
       " '23.txt',\n",
       " 'Adygeja_Resp',\n",
       " 'Altaj_Resp',\n",
       " 'Altajskij_kraj',\n",
       " 'Amurskaja_obl',\n",
       " 'Arkhangelskaja_obl',\n",
       " 'Astrakhanskaja_obl',\n",
       " 'Bajkonur_g',\n",
       " 'Bashkortostan_Resp',\n",
       " 'Belgorodskaja_obl',\n",
       " 'Brjanskaja_obl',\n",
       " 'Burjatija_Resp',\n",
       " 'Chechenskaja_Resp',\n",
       " 'Cheljabinskaja_obl',\n",
       " 'Chukotskij_AO',\n",
       " 'Chuvashskaja_Resp',\n",
       " 'Dagestan_Resp',\n",
       " 'ERUZ',\n",
       " 'Evrejskaja_Aobl',\n",
       " 'Ingushetija_Resp',\n",
       " 'Irkutskaja_obl',\n",
       " 'Ivanovskaja_obl',\n",
       " 'Jamalo-Neneckij_AO',\n",
       " 'Jaroslavskaja_obl',\n",
       " 'Kabardino-Balkarskaja_Resp',\n",
       " 'Kaliningradskaja_obl',\n",
       " 'Kalmykija_Resp',\n",
       " 'Kaluzhskaja_obl',\n",
       " 'Kamchatskij_kraj',\n",
       " 'Karachaevo-Cherkesskaja_Resp',\n",
       " 'Karelija_Resp',\n",
       " 'Kemerovskaja_obl',\n",
       " 'Khabarovskij_kraj',\n",
       " 'Khakasija_Resp',\n",
       " 'Khanty-Mansijskij_AO-Jugra_AO',\n",
       " 'Kirovskaja_obl',\n",
       " 'Komi_Resp',\n",
       " 'Kostromskaja_obl',\n",
       " 'Krasnodarskij_kraj',\n",
       " 'Krasnojarskij_kraj',\n",
       " 'Krim_Resp',\n",
       " 'Kurganskaja_obl',\n",
       " 'Kurskaja_obl',\n",
       " 'Leningradskaja_obl',\n",
       " 'Lipeckaja_obl',\n",
       " 'Magadanskaja_obl',\n",
       " 'Marij_El_Resp',\n",
       " 'Mordovija_Resp',\n",
       " 'Moskovskaja_obl',\n",
       " 'Moskva',\n",
       " 'Murmanskaja_obl',\n",
       " 'Neneckij_AO',\n",
       " 'Nizhegorodskaja_obl',\n",
       " 'Novgorodskaja_obl',\n",
       " 'Novosibirskaja_obl',\n",
       " 'Omskaja_obl',\n",
       " 'Orenburgskaja_obl',\n",
       " 'Orlovskaja_obl',\n",
       " 'PG-PZ',\n",
       " 'Penzenskaja_obl',\n",
       " 'Permskij_kraj',\n",
       " 'Primorskij_kraj',\n",
       " 'Pskovskaja_obl',\n",
       " 'Rjazanskaja_obl',\n",
       " 'Rostovskaja_obl',\n",
       " 'Sakha_Jakutija_Resp',\n",
       " 'Sakhalinskaja_obl',\n",
       " 'Samarskaja_obl',\n",
       " 'Sankt-Peterburg',\n",
       " 'Saratovskaja_obl',\n",
       " 'Sevastopol_g',\n",
       " 'Severnaja_Osetija-Alanija_Resp',\n",
       " 'Smolenskaja_obl',\n",
       " 'Stavropolskij_kraj',\n",
       " 'Sverdlovskaja_obl',\n",
       " 'Tambovskaja_obl',\n",
       " 'Tatarstan_Resp',\n",
       " 'Tjumenskaja_obl',\n",
       " 'Tomskaja_obl',\n",
       " 'Tulskaja_obl',\n",
       " 'Tverskaja_obl',\n",
       " 'Tyva_Resp',\n",
       " 'Udmurtskaja_Resp',\n",
       " 'Uljanovskaja_obl',\n",
       " 'Vladimirskaja_obl',\n",
       " 'Volgogradskaja_obl',\n",
       " 'Vologodskaja_obl',\n",
       " 'Voronezhskaja_obl',\n",
       " 'Zabajkalskij_kraj',\n",
       " '_logs',\n",
       " 'check_dir.sh',\n",
       " 'contract_2021042200_2021042400_001.xml.zip',\n",
       " 'contract_2021042600_2021042700_001.xml.zip',\n",
       " 'contract_2021051700_2021051800_001.xml.zip',\n",
       " 'control99docs',\n",
       " 'dir.sh',\n",
       " 'directory.txt',\n",
       " 'fcs_undefined',\n",
       " 'filename.txt',\n",
       " 'filename2.txt',\n",
       " 'ftp_notif_create.sh',\n",
       " 'ftp_scripts.sh',\n",
       " 'log_FCSSUPP14736_fks.log',\n",
       " 'mk.sh',\n",
       " 'mv_files.sh',\n",
       " 'notification_2017082300_2017082400_001.xml.zip',\n",
       " 'regions.txt',\n",
       " 'temp_err',\n",
       " 'tenderPlan2020_2021071900_2021032700_20210726164441_001.xml.zip',\n",
       " 'tenderPlan2020_2021071900_2021072000_20210726164505_001.xml.zip']"
      ]
     },
     "execution_count": 137,
     "metadata": {},
     "output_type": "execute_result"
    }
   ],
   "source": [
    "ftp.nlst()"
   ]
  },
  {
   "cell_type": "code",
   "execution_count": 138,
   "metadata": {},
   "outputs": [
    {
     "data": {
      "text/plain": [
       "'250 Directory successfully changed.'"
      ]
     },
     "execution_count": 138,
     "metadata": {},
     "output_type": "execute_result"
    }
   ],
   "source": [
    "ftp.cwd('Ingushetija_Resp')"
   ]
  },
  {
   "cell_type": "code",
   "execution_count": 139,
   "metadata": {},
   "outputs": [
    {
     "data": {
      "text/plain": [
       "['addinfo',\n",
       " 'auditresult',\n",
       " 'contractprojects',\n",
       " 'contracts',\n",
       " 'control99docs',\n",
       " 'customerreports',\n",
       " 'notificationExceptions',\n",
       " 'notifications',\n",
       " 'plangraphs',\n",
       " 'plangraphs2017',\n",
       " 'plangraphs2020',\n",
       " 'pprf615docs',\n",
       " 'protocols',\n",
       " 'protocolsfrequnl',\n",
       " 'purchasedocs',\n",
       " 'purchaseplans',\n",
       " 'regulationrule',\n",
       " 'regulationrules',\n",
       " 'requestquotation',\n",
       " 'sketchplans']"
      ]
     },
     "execution_count": 139,
     "metadata": {},
     "output_type": "execute_result"
    }
   ],
   "source": [
    "ftp.nlst()"
   ]
  },
  {
   "cell_type": "code",
   "execution_count": 140,
   "metadata": {},
   "outputs": [
    {
     "data": {
      "text/plain": [
       "'250 Directory successfully changed.'"
      ]
     },
     "execution_count": 140,
     "metadata": {},
     "output_type": "execute_result"
    }
   ],
   "source": [
    "ftp.cwd('notifications')"
   ]
  },
  {
   "cell_type": "code",
   "execution_count": 141,
   "metadata": {},
   "outputs": [
    {
     "data": {
      "text/plain": [
       "'/fcs_regions/Ingushetija_Resp/notifications'"
      ]
     },
     "execution_count": 141,
     "metadata": {},
     "output_type": "execute_result"
    }
   ],
   "source": [
    "ftp.pwd() ## Проверим, что действительно находимся в том каталоге, с которого будем скачивать файл"
   ]
  },
  {
   "cell_type": "markdown",
   "metadata": {},
   "source": [
    "#### Инфо о каталоге"
   ]
  },
  {
   "cell_type": "code",
   "execution_count": 142,
   "metadata": {},
   "outputs": [
    {
     "data": {
      "text/plain": [
       "499"
      ]
     },
     "execution_count": 142,
     "metadata": {},
     "output_type": "execute_result"
    }
   ],
   "source": [
    "len(ftp.nlst()) ## кол-во элементов в текущем каталоге"
   ]
  },
  {
   "cell_type": "code",
   "execution_count": 143,
   "metadata": {},
   "outputs": [
    {
     "data": {
      "text/plain": [
       "['notification_Ingushetija_Resp_2021090100_2021100100_001.xml.zip',\n",
       " 'notification_Ingushetija_Resp_2021090100_2021100100_002.xml.zip',\n",
       " 'notification_Ingushetija_Resp_2021090100_2021100100_003.xml.zip',\n",
       " 'notification_Ingushetija_Resp_2021090100_2021100100_004.xml.zip',\n",
       " 'prevMonth']"
      ]
     },
     "execution_count": 143,
     "metadata": {},
     "output_type": "execute_result"
    }
   ],
   "source": [
    "ftp.nlst()[-5:] ## последние 5 элементов"
   ]
  },
  {
   "cell_type": "code",
   "execution_count": 144,
   "metadata": {},
   "outputs": [
    {
     "name": "stdout",
     "output_type": "stream",
     "text": [
      "drwxr-xr-x    2 1077     1040         4096 Oct 24 00:32 currMonth\n",
      "-rw-rw-r--    1 1077     1040        53355 May 13  2014 notification_Ingushetija_Resp_2014010100_2014020100_034.xml.zip\n",
      "-rw-rw-r--    1 1077     1040         1713 Mar 21  2014 notification_Ingushetija_Resp_2014011400_2014011500_001.xml.zip\n",
      "-rw-rw-r--    1 1077     1040       706043 May 13  2014 notification_Ingushetija_Resp_2014020100_2014030100_045.xml.zip\n",
      "-rw-rw-r--    1 1077     1040      1867922 Jul 07  2014 notification_Ingushetija_Resp_2014030100_2014040100_20140707115823_076.xml.zip\n",
      "-rw-rw-r--    1 1077     1040         7611 Jul 07  2014 notification_Ingushetija_Resp_2014030100_2014040100_20140707115823_077.xml.zip\n",
      "-rw-rw-r--    1 1077     1040        21373 Jul 14  2014 notification_Ingushetija_Resp_2014030100_2014040100_20140714102826_103.xml.zip\n",
      "-rw-rw-r--    1 1077     1040      2599228 Jul 07  2014 notification_Ingushetija_Resp_2014040100_2014050100_20140707142707_085.xml.zip\n",
      "-rw-rw-r--    1 1077     1040        30972 Jul 07  2014 notification_Ingushetija_Resp_2014040100_2014050100_20140707142707_086.xml.zip\n",
      "-rw-rw-r--    1 1077     1040         4264 Jul 07  2014 notification_Ingushetija_Resp_2014040100_2014050100_20140707142707_087.xml.zip\n",
      "-rw-rw-r--    1 1077     1040        43196 Jul 15  2014 notification_Ingushetija_Resp_2014040100_2014050100_20140715100806_125.xml.zip\n",
      "-rw-rw-r--    1 1077     1040      3222341 Aug 15  2014 notification_Ingushetija_Resp_2014050100_2014060100_103.xml.zip\n",
      "-rw-rw-r--    1 1077     1040        44391 Aug 15  2014 notification_Ingushetija_Resp_2014050100_2014060100_104.xml.zip\n",
      "-rw-rw-r--    1 1077     1040        64955 Aug 15  2014 notification_Ingushetija_Resp_2014050100_2014060100_105.xml.zip\n",
      "-rw-rw-r--    1 1077     1040        62455 Aug 15  2014 notification_Ingushetija_Resp_2014050100_2014060100_120.xml.zip\n",
      "-rw-rw-r--    1 1077     1040      2372319 Aug 18  2014 notification_Ingushetija_Resp_2014060100_2014070100_102.xml.zip\n",
      "-rw-rw-r--    1 1077     1040        68714 Aug 18  2014 notification_Ingushetija_Resp_2014060100_2014070100_103.xml.zip\n",
      "-rw-rw-r--    1 1077     1040         4189 Aug 18  2014 notification_Ingushetija_Resp_2014060100_2014070100_104.xml.zip\n",
      "-rw-rw-r--    1 1077     1040        67832 Aug 18  2014 notification_Ingushetija_Resp_2014060100_2014070100_105.xml.zip\n",
      "-rw-rw-r--    1 1077     1040        73426 Oct 01  2014 notification_Ingushetija_Resp_2014060100_2014070100_130.xml.zip\n",
      "-rw-rw-r--    1 1077     1040      2276297 Jan 12  2015 notification_Ingushetija_Resp_2014070100_2014080100_001.xml.zip\n",
      "-rw-rw-r--    1 1077     1040       105687 Jan 12  2015 notification_Ingushetija_Resp_2014070100_2014080100_002.xml.zip\n",
      "-rw-rw-r--    1 1077     1040       155480 Jan 12  2015 notification_Ingushetija_Resp_2014070100_2014080100_003.xml.zip\n",
      "-rw-rw-r--    1 1077     1040       155480 Jan 12  2015 notification_Ingushetija_Resp_2014070100_2014080100_004.xml.zip\n",
      "-rw-rw-r--    1 1077     1040        91503 Jan 12  2015 notification_Ingushetija_Resp_2014070100_2014080100_005.xml.zip\n",
      "-rw-rw-r--    1 1077     1040      2276297 Aug 09  2014 notification_Ingushetija_Resp_2014070100_2014080100_100.xml.zip\n",
      "-rw-rw-r--    1 1077     1040       105687 Aug 09  2014 notification_Ingushetija_Resp_2014070100_2014080100_101.xml.zip\n",
      "-rw-rw-r--    1 1077     1040        12497 Aug 09  2014 notification_Ingushetija_Resp_2014070100_2014080100_102.xml.zip\n",
      "-rw-rw-r--    1 1077     1040        91503 Aug 09  2014 notification_Ingushetija_Resp_2014070100_2014080100_103.xml.zip\n",
      "-rw-rw-r--    1 1077     1040       155797 Oct 03  2014 notification_Ingushetija_Resp_2014070100_2014080100_162.xml.zip\n",
      "-rw-rw-r--    1 1077     1040      2175444 Sep 06  2014 notification_Ingushetija_Resp_2014080100_2014090100_131.xml.zip\n",
      "-rw-rw-r--    1 1077     1040        47068 Sep 06  2014 notification_Ingushetija_Resp_2014080100_2014090100_132.xml.zip\n",
      "-rw-rw-r--    1 1077     1040        24100 Sep 06  2014 notification_Ingushetija_Resp_2014080100_2014090100_133.xml.zip\n",
      "-rw-rw-r--    1 1077     1040       102739 Sep 06  2014 notification_Ingushetija_Resp_2014080100_2014090100_134.xml.zip\n",
      "-rw-rw-r--    1 1077     1040       233045 Sep 06  2014 notification_Ingushetija_Resp_2014080100_2014090100_135.xml.zip\n",
      "-rw-rw-r--    1 1077     1040       141998 Sep 06  2014 notification_Ingushetija_Resp_2014080100_2014090100_141.xml.zip\n",
      "-rw-rw-r--    1 1077     1040      2773833 Nov 04  2014 notification_Ingushetija_Resp_2014090100_2014100100_128.xml.zip\n",
      "-rw-rw-r--    1 1077     1040        73827 Nov 04  2014 notification_Ingushetija_Resp_2014090100_2014100100_129.xml.zip\n",
      "-rw-rw-r--    1 1077     1040         4206 Nov 04  2014 notification_Ingushetija_Resp_2014090100_2014100100_130.xml.zip\n",
      "-rw-rw-r--    1 1077     1040         7637 Nov 04  2014 notification_Ingushetija_Resp_2014090100_2014100100_131.xml.zip\n",
      "-rw-rw-r--    1 1077     1040        91388 Nov 04  2014 notification_Ingushetija_Resp_2014090100_2014100100_132.xml.zip\n",
      "-rw-rw-r--    1 1077     1040       205975 Nov 04  2014 notification_Ingushetija_Resp_2014090100_2014100100_133.xml.zip\n",
      "-rw-rw-r--    1 1077     1040      2880025 Nov 01  2014 notification_Ingushetija_Resp_2014100100_2014110100_130.xml.zip\n",
      "-rw-rw-r--    1 1077     1040        48467 Nov 01  2014 notification_Ingushetija_Resp_2014100100_2014110100_131.xml.zip\n",
      "-rw-rw-r--    1 1077     1040        80017 Nov 01  2014 notification_Ingushetija_Resp_2014100100_2014110100_132.xml.zip\n",
      "-rw-rw-r--    1 1077     1040       153734 Nov 01  2014 notification_Ingushetija_Resp_2014100100_2014110100_133.xml.zip\n",
      "-rw-rw-r--    1 1077     1040      4803801 Dec 06  2014 notification_Ingushetija_Resp_2014110100_2014120100_169.xml.zip\n",
      "-rw-rw-r--    1 1077     1040        58996 Dec 06  2014 notification_Ingushetija_Resp_2014110100_2014120100_170.xml.zip\n",
      "-rw-rw-r--    1 1077     1040       152215 Dec 06  2014 notification_Ingushetija_Resp_2014110100_2014120100_171.xml.zip\n",
      "-rw-rw-r--    1 1077     1040       278680 Dec 06  2014 notification_Ingushetija_Resp_2014110100_2014120100_172.xml.zip\n",
      "-rw-rw-r--    1 1077     1040       208305 Dec 06  2014 notification_Ingushetija_Resp_2014110100_2014120100_173.xml.zip\n",
      "-rw-rw-r--    1 1077     1040      5045155 Jan 13  2015 notification_Ingushetija_Resp_2014120100_2015010100_001.xml.zip\n",
      "-rw-rw-r--    1 1077     1040        76320 Jan 13  2015 notification_Ingushetija_Resp_2014120100_2015010100_002.xml.zip\n",
      "-rw-rw-r--    1 1077     1040       495624 Jan 13  2015 notification_Ingushetija_Resp_2014120100_2015010100_003.xml.zip\n",
      "-rw-rw-r--    1 1077     1040       496786 Jan 15  2015 notification_Ingushetija_Resp_2014120100_2015010100_004.xml.zip\n",
      "-rw-rw-r--    1 1077     1040       435532 Jan 13  2015 notification_Ingushetija_Resp_2014120100_2015010100_005.xml.zip\n",
      "-rw-rw-r--    1 1077     1040      1337523 Feb 07  2015 notification_Ingushetija_Resp_2015010100_2015020100_001.xml.zip\n",
      "-rw-rw-r--    1 1077     1040        69750 Feb 07  2015 notification_Ingushetija_Resp_2015010100_2015020100_002.xml.zip\n",
      "-rw-rw-r--    1 1077     1040         4070 Feb 07  2015 notification_Ingushetija_Resp_2015010100_2015020100_003.xml.zip\n",
      "-rw-rw-r--    1 1077     1040       131013 Feb 07  2015 notification_Ingushetija_Resp_2015010100_2015020100_004.xml.zip\n",
      "-rw-rw-r--    1 1077     1040      1337523 May 05  2015 notification_Ingushetija_Resp_2015010100_2015020100_20150505120840_001.xml.zip\n",
      "-rw-rw-r--    1 1077     1040        69750 May 05  2015 notification_Ingushetija_Resp_2015010100_2015020100_20150505120840_002.xml.zip\n",
      "-rw-rw-r--    1 1077     1040       111683 May 05  2015 notification_Ingushetija_Resp_2015010100_2015020100_20150505120840_003.xml.zip\n",
      "-rw-rw-r--    1 1077     1040         4070 May 05  2015 notification_Ingushetija_Resp_2015010100_2015020100_20150505120840_004.xml.zip\n",
      "-rw-rw-r--    1 1077     1040       131013 May 05  2015 notification_Ingushetija_Resp_2015010100_2015020100_20150505120840_005.xml.zip\n",
      "-rw-rw-r--    1 1077     1040      3050718 Mar 07  2015 notification_Ingushetija_Resp_2015020100_2015030100_001.xml.zip\n",
      "-rw-rw-r--    1 1077     1040       140919 Mar 07  2015 notification_Ingushetija_Resp_2015020100_2015030100_002.xml.zip\n",
      "-rw-rw-r--    1 1077     1040        38131 Mar 07  2015 notification_Ingushetija_Resp_2015020100_2015030100_003.xml.zip\n",
      "-rw-rw-r--    1 1077     1040        82363 Mar 07  2015 notification_Ingushetija_Resp_2015020100_2015030100_004.xml.zip\n",
      "-rw-rw-r--    1 1077     1040         5030 Mar 07  2015 notification_Ingushetija_Resp_2015020100_2015030100_005.xml.zip\n",
      "-rw-rw-r--    1 1077     1040      3050718 May 06  2015 notification_Ingushetija_Resp_2015020100_2015030100_20150506084955_001.xml.zip\n",
      "-rw-rw-r--    1 1077     1040       140919 May 06  2015 notification_Ingushetija_Resp_2015020100_2015030100_20150506084955_002.xml.zip\n",
      "-rw-rw-r--    1 1077     1040        88472 May 06  2015 notification_Ingushetija_Resp_2015020100_2015030100_20150506084955_003.xml.zip\n",
      "-rw-rw-r--    1 1077     1040        38131 May 06  2015 notification_Ingushetija_Resp_2015020100_2015030100_20150506084955_004.xml.zip\n",
      "-rw-rw-r--    1 1077     1040        82363 May 06  2015 notification_Ingushetija_Resp_2015020100_2015030100_20150506084955_005.xml.zip\n",
      "-rw-rw-r--    1 1077     1040         5030 May 06  2015 notification_Ingushetija_Resp_2015020100_2015030100_20150506084955_006.xml.zip\n",
      "-rw-rw-r--    1 1077     1040      3179196 Apr 04  2015 notification_Ingushetija_Resp_2015030100_2015040100_001.xml.zip\n",
      "-rw-rw-r--    1 1077     1040        37772 Apr 04  2015 notification_Ingushetija_Resp_2015030100_2015040100_002.xml.zip\n",
      "-rw-rw-r--    1 1077     1040        94610 Apr 04  2015 notification_Ingushetija_Resp_2015030100_2015040100_003.xml.zip\n",
      "-rw-rw-r--    1 1077     1040       188416 Apr 04  2015 notification_Ingushetija_Resp_2015030100_2015040100_004.xml.zip\n",
      "-rw-rw-r--    1 1077     1040      3179196 May 06  2015 notification_Ingushetija_Resp_2015030100_2015040100_20150506141350_001.xml.zip\n",
      "-rw-rw-r--    1 1077     1040        37772 May 06  2015 notification_Ingushetija_Resp_2015030100_2015040100_20150506141350_002.xml.zip\n",
      "-rw-rw-r--    1 1077     1040       139208 May 06  2015 notification_Ingushetija_Resp_2015030100_2015040100_20150506141350_003.xml.zip\n",
      "-rw-rw-r--    1 1077     1040        94610 May 06  2015 notification_Ingushetija_Resp_2015030100_2015040100_20150506141350_004.xml.zip\n",
      "-rw-rw-r--    1 1077     1040       188416 May 06  2015 notification_Ingushetija_Resp_2015030100_2015040100_20150506141350_005.xml.zip\n",
      "-rw-rw-r--    1 1077     1040      4374565 May 02  2015 notification_Ingushetija_Resp_2015040100_2015050100_001.xml.zip\n",
      "-rw-rw-r--    1 1077     1040       101360 May 02  2015 notification_Ingushetija_Resp_2015040100_2015050100_002.xml.zip\n",
      "-rw-rw-r--    1 1077     1040         3812 May 02  2015 notification_Ingushetija_Resp_2015040100_2015050100_003.xml.zip\n",
      "-rw-rw-r--    1 1077     1040       183416 May 02  2015 notification_Ingushetija_Resp_2015040100_2015050100_004.xml.zip\n",
      "-rw-rw-r--    1 1077     1040       157851 May 02  2015 notification_Ingushetija_Resp_2015040100_2015050100_005.xml.zip\n",
      "-rw-rw-r--    1 1077     1040       259711 May 02  2015 notification_Ingushetija_Resp_2015040100_2015050100_006.xml.zip\n",
      "-rw-rw-r--    1 1077     1040      4374565 May 07  2015 notification_Ingushetija_Resp_2015040100_2015050100_20150507090821_001.xml.zip\n",
      "-rw-rw-r--    1 1077     1040       101360 May 07  2015 notification_Ingushetija_Resp_2015040100_2015050100_20150507090821_002.xml.zip\n",
      "-rw-rw-r--    1 1077     1040         3812 May 07  2015 notification_Ingushetija_Resp_2015040100_2015050100_20150507090821_003.xml.zip\n",
      "-rw-rw-r--    1 1077     1040       183416 May 07  2015 notification_Ingushetija_Resp_2015040100_2015050100_20150507090821_004.xml.zip\n",
      "-rw-rw-r--    1 1077     1040       157851 May 07  2015 notification_Ingushetija_Resp_2015040100_2015050100_20150507090821_005.xml.zip\n",
      "-rw-rw-r--    1 1077     1040       259711 May 07  2015 notification_Ingushetija_Resp_2015040100_2015050100_20150507090821_006.xml.zip\n",
      "-rw-rw-r--    1 1077     1040      3399580 Jun 06  2015 notification_Ingushetija_Resp_2015050100_2015060100_001.xml.zip\n",
      "-rw-rw-r--    1 1077     1040       173741 Jun 06  2015 notification_Ingushetija_Resp_2015050100_2015060100_002.xml.zip\n",
      "-rw-rw-r--    1 1077     1040       271348 Jun 06  2015 notification_Ingushetija_Resp_2015050100_2015060100_003.xml.zip\n",
      "-rw-rw-r--    1 1077     1040        93367 Jun 06  2015 notification_Ingushetija_Resp_2015050100_2015060100_004.xml.zip\n",
      "-rw-rw-r--    1 1077     1040       182898 Jun 06  2015 notification_Ingushetija_Resp_2015050100_2015060100_005.xml.zip\n",
      "-rw-rw-r--    1 1077     1040         4634 Jun 06  2015 notification_Ingushetija_Resp_2015050100_2015060100_006.xml.zip\n",
      "-rw-rw-r--    1 1077     1040      2471534 Jul 04  2015 notification_Ingushetija_Resp_2015060100_2015070100_001.xml.zip\n",
      "-rw-rw-r--    1 1077     1040        53148 Jul 04  2015 notification_Ingushetija_Resp_2015060100_2015070100_002.xml.zip\n",
      "-rw-rw-r--    1 1077     1040        11607 Jul 04  2015 notification_Ingushetija_Resp_2015060100_2015070100_003.xml.zip\n",
      "-rw-rw-r--    1 1077     1040       234154 Jul 04  2015 notification_Ingushetija_Resp_2015060100_2015070100_004.xml.zip\n",
      "-rw-rw-r--    1 1077     1040       125230 Jul 04  2015 notification_Ingushetija_Resp_2015060100_2015070100_005.xml.zip\n",
      "-rw-rw-r--    1 1077     1040       200045 Jul 04  2015 notification_Ingushetija_Resp_2015060100_2015070100_006.xml.zip\n",
      "-rw-rw-r--    1 1077     1040      2853473 Aug 01  2015 notification_Ingushetija_Resp_2015070100_2015080100_001.xml.zip\n",
      "-rw-rw-r--    1 1077     1040        67148 Aug 01  2015 notification_Ingushetija_Resp_2015070100_2015080100_002.xml.zip\n",
      "-rw-rw-r--    1 1077     1040         4137 Aug 01  2015 notification_Ingushetija_Resp_2015070100_2015080100_003.xml.zip\n",
      "-rw-rw-r--    1 1077     1040       164956 Aug 01  2015 notification_Ingushetija_Resp_2015070100_2015080100_004.xml.zip\n",
      "-rw-rw-r--    1 1077     1040       153862 Aug 01  2015 notification_Ingushetija_Resp_2015070100_2015080100_005.xml.zip\n",
      "-rw-rw-r--    1 1077     1040       169998 Aug 01  2015 notification_Ingushetija_Resp_2015070100_2015080100_006.xml.zip\n",
      "-rw-rw-r--    1 1077     1040         5115 Aug 01  2015 notification_Ingushetija_Resp_2015070100_2015080100_007.xml.zip\n",
      "-rw-rw-r--    1 1077     1040      2577805 Sep 05  2015 notification_Ingushetija_Resp_2015080100_2015090100_001.xml.zip\n",
      "-rw-rw-r--    1 1077     1040        86406 Sep 05  2015 notification_Ingushetija_Resp_2015080100_2015090100_002.xml.zip\n",
      "-rw-rw-r--    1 1077     1040         8524 Sep 05  2015 notification_Ingushetija_Resp_2015080100_2015090100_003.xml.zip\n",
      "-rw-rw-r--    1 1077     1040       199951 Sep 05  2015 notification_Ingushetija_Resp_2015080100_2015090100_004.xml.zip\n",
      "-rw-rw-r--    1 1077     1040       181942 Sep 05  2015 notification_Ingushetija_Resp_2015080100_2015090100_005.xml.zip\n",
      "-rw-rw-r--    1 1077     1040       167278 Sep 05  2015 notification_Ingushetija_Resp_2015080100_2015090100_006.xml.zip\n",
      "-rw-rw-r--    1 1077     1040      2494038 Oct 03  2015 notification_Ingushetija_Resp_2015090100_2015100100_001.xml.zip\n",
      "-rw-rw-r--    1 1077     1040        68412 Oct 03  2015 notification_Ingushetija_Resp_2015090100_2015100100_002.xml.zip\n",
      "-rw-rw-r--    1 1077     1040         4272 Oct 03  2015 notification_Ingushetija_Resp_2015090100_2015100100_003.xml.zip\n",
      "-rw-rw-r--    1 1077     1040       164228 Oct 03  2015 notification_Ingushetija_Resp_2015090100_2015100100_004.xml.zip\n",
      "-rw-rw-r--    1 1077     1040       211883 Oct 03  2015 notification_Ingushetija_Resp_2015090100_2015100100_005.xml.zip\n",
      "-rw-rw-r--    1 1077     1040       155268 Oct 03  2015 notification_Ingushetija_Resp_2015090100_2015100100_006.xml.zip\n",
      "-rw-rw-r--    1 1077     1040      3334337 Nov 07  2015 notification_Ingushetija_Resp_2015100100_2015110100_001.xml.zip\n",
      "-rw-rw-r--    1 1077     1040        49740 Nov 07  2015 notification_Ingushetija_Resp_2015100100_2015110100_002.xml.zip\n",
      "-rw-rw-r--    1 1077     1040       168876 Nov 07  2015 notification_Ingushetija_Resp_2015100100_2015110100_003.xml.zip\n",
      "-rw-rw-r--    1 1077     1040       120266 Nov 07  2015 notification_Ingushetija_Resp_2015100100_2015110100_004.xml.zip\n",
      "-rw-rw-r--    1 1077     1040       146246 Nov 07  2015 notification_Ingushetija_Resp_2015100100_2015110100_005.xml.zip\n",
      "-rw-rw-r--    1 1077     1040      4322649 Dec 05  2015 notification_Ingushetija_Resp_2015110100_2015120100_001.xml.zip\n",
      "-rw-rw-r--    1 1077     1040        47091 Dec 05  2015 notification_Ingushetija_Resp_2015110100_2015120100_002.xml.zip\n",
      "-rw-rw-r--    1 1077     1040       199414 Dec 05  2015 notification_Ingushetija_Resp_2015110100_2015120100_003.xml.zip\n",
      "-rw-rw-r--    1 1077     1040       265264 Dec 05  2015 notification_Ingushetija_Resp_2015110100_2015120100_004.xml.zip\n",
      "-rw-rw-r--    1 1077     1040       212249 Dec 05  2015 notification_Ingushetija_Resp_2015110100_2015120100_005.xml.zip\n",
      "-rw-rw-r--    1 1077     1040      5591287 Jan 02  2016 notification_Ingushetija_Resp_2015120100_2016010100_001.xml.zip\n",
      "-rw-rw-r--    1 1077     1040        96577 Jan 02  2016 notification_Ingushetija_Resp_2015120100_2016010100_002.xml.zip\n",
      "-rw-rw-r--    1 1077     1040       398576 Jan 02  2016 notification_Ingushetija_Resp_2015120100_2016010100_003.xml.zip\n",
      "-rw-rw-r--    1 1077     1040        69986 Jan 02  2016 notification_Ingushetija_Resp_2015120100_2016010100_004.xml.zip\n",
      "-rw-rw-r--    1 1077     1040       452325 Jan 02  2016 notification_Ingushetija_Resp_2015120100_2016010100_005.xml.zip\n",
      "-rw-rw-r--    1 1077     1040         4514 Jan 02  2016 notification_Ingushetija_Resp_2015120100_2016010100_006.xml.zip\n",
      "-rw-rw-r--    1 1077     1040      1664333 Feb 06  2016 notification_Ingushetija_Resp_2016010100_2016020100_001.xml.zip\n",
      "-rw-rw-r--    1 1077     1040        54436 Feb 06  2016 notification_Ingushetija_Resp_2016010100_2016020100_002.xml.zip\n",
      "-rw-rw-r--    1 1077     1040        57757 Feb 06  2016 notification_Ingushetija_Resp_2016010100_2016020100_003.xml.zip\n",
      "-rw-rw-r--    1 1077     1040       115894 Feb 06  2016 notification_Ingushetija_Resp_2016010100_2016020100_004.xml.zip\n",
      "-rw-rw-r--    1 1077     1040         4924 Feb 06  2016 notification_Ingushetija_Resp_2016010100_2016020100_005.xml.zip\n",
      "-rw-rw-r--    1 1077     1040      3162225 Mar 05  2016 notification_Ingushetija_Resp_2016020100_2016030100_001.xml.zip\n",
      "-rw-rw-r--    1 1077     1040        25971 Mar 05  2016 notification_Ingushetija_Resp_2016020100_2016030100_002.xml.zip\n",
      "-rw-rw-r--    1 1077     1040        83392 Mar 05  2016 notification_Ingushetija_Resp_2016020100_2016030100_003.xml.zip\n",
      "-rw-rw-r--    1 1077     1040       107684 Mar 05  2016 notification_Ingushetija_Resp_2016020100_2016030100_004.xml.zip\n",
      "-rw-rw-r--    1 1077     1040      3869856 Apr 02  2016 notification_Ingushetija_Resp_2016030100_2016040100_001.xml.zip\n",
      "-rw-rw-r--    1 1077     1040        69860 Apr 02  2016 notification_Ingushetija_Resp_2016030100_2016040100_002.xml.zip\n",
      "-rw-rw-r--    1 1077     1040       170422 Apr 02  2016 notification_Ingushetija_Resp_2016030100_2016040100_003.xml.zip\n",
      "-rw-rw-r--    1 1077     1040       215356 Apr 02  2016 notification_Ingushetija_Resp_2016030100_2016040100_004.xml.zip\n",
      "-rw-rw-r--    1 1077     1040      3267867 May 07  2016 notification_Ingushetija_Resp_2016040100_2016050100_001.xml.zip\n",
      "-rw-rw-r--    1 1077     1040        42741 May 07  2016 notification_Ingushetija_Resp_2016040100_2016050100_002.xml.zip\n",
      "-rw-rw-r--    1 1077     1040         3974 May 07  2016 notification_Ingushetija_Resp_2016040100_2016050100_003.xml.zip\n",
      "-rw-rw-r--    1 1077     1040       227615 May 07  2016 notification_Ingushetija_Resp_2016040100_2016050100_004.xml.zip\n",
      "-rw-rw-r--    1 1077     1040       211890 May 07  2016 notification_Ingushetija_Resp_2016040100_2016050100_005.xml.zip\n",
      "-rw-rw-r--    1 1077     1040       167438 May 07  2016 notification_Ingushetija_Resp_2016040100_2016050100_006.xml.zip\n",
      "-rw-rw-r--    1 1077     1040      3307980 Jun 04  2016 notification_Ingushetija_Resp_2016050100_2016060100_001.xml.zip\n",
      "-rw-rw-r--    1 1077     1040        46633 Jun 04  2016 notification_Ingushetija_Resp_2016050100_2016060100_002.xml.zip\n",
      "-rw-rw-r--    1 1077     1040         4028 Jun 04  2016 notification_Ingushetija_Resp_2016050100_2016060100_003.xml.zip\n",
      "-rw-rw-r--    1 1077     1040       200522 Jun 04  2016 notification_Ingushetija_Resp_2016050100_2016060100_004.xml.zip\n",
      "-rw-rw-r--    1 1077     1040        77881 Jun 04  2016 notification_Ingushetija_Resp_2016050100_2016060100_005.xml.zip\n",
      "-rw-rw-r--    1 1077     1040       175628 Jun 04  2016 notification_Ingushetija_Resp_2016050100_2016060100_006.xml.zip\n",
      "-rw-rw-r--    1 1077     1040      2879013 Jul 02  2016 notification_Ingushetija_Resp_2016060100_2016070100_001.xml.zip\n",
      "-rw-rw-r--    1 1077     1040        22681 Jul 02  2016 notification_Ingushetija_Resp_2016060100_2016070100_002.xml.zip\n",
      "-rw-rw-r--    1 1077     1040       242830 Jul 02  2016 notification_Ingushetija_Resp_2016060100_2016070100_003.xml.zip\n",
      "-rw-rw-r--    1 1077     1040        94647 Jul 02  2016 notification_Ingushetija_Resp_2016060100_2016070100_004.xml.zip\n",
      "-rw-rw-r--    1 1077     1040       227218 Jul 02  2016 notification_Ingushetija_Resp_2016060100_2016070100_005.xml.zip\n",
      "-rw-rw-r--    1 1077     1040      3873458 Aug 06  2016 notification_Ingushetija_Resp_2016070100_2016080100_001.xml.zip\n",
      "-rw-rw-r--    1 1077     1040        57667 Aug 06  2016 notification_Ingushetija_Resp_2016070100_2016080100_002.xml.zip\n",
      "-rw-rw-r--    1 1077     1040       131498 Aug 06  2016 notification_Ingushetija_Resp_2016070100_2016080100_003.xml.zip\n",
      "-rw-rw-r--    1 1077     1040       180197 Aug 06  2016 notification_Ingushetija_Resp_2016070100_2016080100_004.xml.zip\n",
      "-rw-rw-r--    1 1077     1040       159519 Aug 06  2016 notification_Ingushetija_Resp_2016070100_2016080100_005.xml.zip\n",
      "-rw-rw-r--    1 1077     1040      4073907 Sep 03  2016 notification_Ingushetija_Resp_2016080100_2016090100_001.xml.zip\n",
      "-rw-rw-r--    1 1077     1040        50936 Sep 03  2016 notification_Ingushetija_Resp_2016080100_2016090100_002.xml.zip\n",
      "-rw-rw-r--    1 1077     1040       340098 Sep 03  2016 notification_Ingushetija_Resp_2016080100_2016090100_003.xml.zip\n",
      "-rw-rw-r--    1 1077     1040         4544 Sep 03  2016 notification_Ingushetija_Resp_2016080100_2016090100_004.xml.zip\n",
      "-rw-rw-r--    1 1077     1040       198050 Sep 03  2016 notification_Ingushetija_Resp_2016080100_2016090100_005.xml.zip\n",
      "-rw-rw-r--    1 1077     1040       216245 Sep 03  2016 notification_Ingushetija_Resp_2016080100_2016090100_006.xml.zip\n",
      "-rw-rw-r--    1 1077     1040      2072755 Oct 01  2016 notification_Ingushetija_Resp_2016090100_2016100100_001.xml.zip\n",
      "-rw-rw-r--    1 1077     1040        34252 Oct 01  2016 notification_Ingushetija_Resp_2016090100_2016100100_002.xml.zip\n",
      "-rw-rw-r--    1 1077     1040       207402 Oct 01  2016 notification_Ingushetija_Resp_2016090100_2016100100_003.xml.zip\n",
      "-rw-rw-r--    1 1077     1040       150176 Oct 01  2016 notification_Ingushetija_Resp_2016090100_2016100100_004.xml.zip\n",
      "-rw-rw-r--    1 1077     1040       194070 Oct 01  2016 notification_Ingushetija_Resp_2016090100_2016100100_005.xml.zip\n",
      "-rw-rw-r--    1 1077     1040      1297743 Nov 05  2016 notification_Ingushetija_Resp_2016100100_2016110100_001.xml.zip\n",
      "-rw-rw-r--    1 1077     1040        47589 Nov 05  2016 notification_Ingushetija_Resp_2016100100_2016110100_002.xml.zip\n",
      "-rw-rw-r--    1 1077     1040         3722 Nov 05  2016 notification_Ingushetija_Resp_2016100100_2016110100_003.xml.zip\n",
      "-rw-rw-r--    1 1077     1040       149147 Nov 05  2016 notification_Ingushetija_Resp_2016100100_2016110100_004.xml.zip\n",
      "-rw-rw-r--    1 1077     1040       326416 Nov 05  2016 notification_Ingushetija_Resp_2016100100_2016110100_005.xml.zip\n",
      "-rw-rw-r--    1 1077     1040       126125 Nov 05  2016 notification_Ingushetija_Resp_2016100100_2016110100_006.xml.zip\n",
      "-rw-rw-r--    1 1077     1040      1979377 Dec 03  2016 notification_Ingushetija_Resp_2016110100_2016120100_001.xml.zip\n",
      "-rw-rw-r--    1 1077     1040        27055 Dec 03  2016 notification_Ingushetija_Resp_2016110100_2016120100_002.xml.zip\n",
      "-rw-rw-r--    1 1077     1040       108132 Dec 03  2016 notification_Ingushetija_Resp_2016110100_2016120100_003.xml.zip\n",
      "-rw-rw-r--    1 1077     1040       109871 Dec 03  2016 notification_Ingushetija_Resp_2016110100_2016120100_004.xml.zip\n",
      "-rw-rw-r--    1 1077     1040       144363 Dec 03  2016 notification_Ingushetija_Resp_2016110100_2016120100_005.xml.zip\n",
      "-rw-rw-r--    1 1077     1040      2571229 Jan 07  2017 notification_Ingushetija_Resp_2016120100_2017010100_001.xml.zip\n",
      "-rw-rw-r--    1 1077     1040        81131 Jan 07  2017 notification_Ingushetija_Resp_2016120100_2017010100_002.xml.zip\n",
      "-rw-rw-r--    1 1077     1040         3727 Jan 07  2017 notification_Ingushetija_Resp_2016120100_2017010100_003.xml.zip\n",
      "-rw-rw-r--    1 1077     1040       269772 Jan 07  2017 notification_Ingushetija_Resp_2016120100_2017010100_004.xml.zip\n",
      "-rw-rw-r--    1 1077     1040       168538 Jan 07  2017 notification_Ingushetija_Resp_2016120100_2017010100_005.xml.zip\n",
      "-rw-rw-r--    1 1077     1040       260290 Jan 07  2017 notification_Ingushetija_Resp_2016120100_2017010100_006.xml.zip\n",
      "-rw-rw-r--    1 1077     1040       131283 Feb 04  2017 notification_Ingushetija_Resp_2017010100_2017020100_001.xml.zip\n",
      "-rw-rw-r--    1 1077     1040       269116 Feb 04  2017 notification_Ingushetija_Resp_2017010100_2017020100_002.xml.zip\n",
      "-rw-rw-r--    1 1077     1040         5339 Feb 04  2017 notification_Ingushetija_Resp_2017010100_2017020100_003.xml.zip\n",
      "-rw-rw-r--    1 1077     1040       152088 Feb 04  2017 notification_Ingushetija_Resp_2017010100_2017020100_004.xml.zip\n",
      "-rw-rw-r--    1 1077     1040      3211331 Mar 04  2017 notification_Ingushetija_Resp_2017020100_2017030100_001.xml.zip\n",
      "-rw-rw-r--    1 1077     1040        31434 Mar 04  2017 notification_Ingushetija_Resp_2017020100_2017030100_002.xml.zip\n",
      "-rw-rw-r--    1 1077     1040        85623 Mar 04  2017 notification_Ingushetija_Resp_2017020100_2017030100_003.xml.zip\n",
      "-rw-rw-r--    1 1077     1040       201623 Mar 04  2017 notification_Ingushetija_Resp_2017020100_2017030100_004.xml.zip\n",
      "-rw-rw-r--    1 1077     1040       106034 Mar 04  2017 notification_Ingushetija_Resp_2017020100_2017030100_005.xml.zip\n",
      "-rw-rw-r--    1 1077     1040      4140017 Apr 01  2017 notification_Ingushetija_Resp_2017030100_2017040100_001.xml.zip\n",
      "-rw-rw-r--    1 1077     1040        27296 Apr 01  2017 notification_Ingushetija_Resp_2017030100_2017040100_002.xml.zip\n",
      "-rw-rw-r--    1 1077     1040       147884 Apr 01  2017 notification_Ingushetija_Resp_2017030100_2017040100_003.xml.zip\n",
      "-rw-rw-r--    1 1077     1040       106274 Apr 01  2017 notification_Ingushetija_Resp_2017030100_2017040100_004.xml.zip\n",
      "-rw-rw-r--    1 1077     1040       220951 Apr 01  2017 notification_Ingushetija_Resp_2017030100_2017040100_005.xml.zip\n",
      "-rw-rw-r--    1 1077     1040      3701229 May 06  2017 notification_Ingushetija_Resp_2017040100_2017050100_001.xml.zip\n",
      "-rw-rw-r--    1 1077     1040        50876 May 06  2017 notification_Ingushetija_Resp_2017040100_2017050100_002.xml.zip\n",
      "-rw-rw-r--    1 1077     1040       238297 May 06  2017 notification_Ingushetija_Resp_2017040100_2017050100_003.xml.zip\n",
      "-rw-rw-r--    1 1077     1040       141037 May 06  2017 notification_Ingushetija_Resp_2017040100_2017050100_004.xml.zip\n",
      "-rw-rw-r--    1 1077     1040       826314 May 06  2017 notification_Ingushetija_Resp_2017040100_2017050100_005.xml.zip\n",
      "-rw-rw-r--    1 1077     1040         4614 May 06  2017 notification_Ingushetija_Resp_2017040100_2017050100_006.xml.zip\n",
      "-rw-rw-r--    1 1077     1040      3222910 Jun 03  2017 notification_Ingushetija_Resp_2017050100_2017060100_001.xml.zip\n",
      "-rw-rw-r--    1 1077     1040        46188 Jun 03  2017 notification_Ingushetija_Resp_2017050100_2017060100_002.xml.zip\n",
      "-rw-rw-r--    1 1077     1040       325505 Jun 03  2017 notification_Ingushetija_Resp_2017050100_2017060100_003.xml.zip\n",
      "-rw-rw-r--    1 1077     1040       154657 Jun 03  2017 notification_Ingushetija_Resp_2017050100_2017060100_004.xml.zip\n",
      "-rw-rw-r--    1 1077     1040       780226 Jun 03  2017 notification_Ingushetija_Resp_2017050100_2017060100_005.xml.zip\n",
      "-rw-rw-r--    1 1077     1040      2465849 Jul 01  2017 notification_Ingushetija_Resp_2017060100_2017070100_001.xml.zip\n",
      "-rw-rw-r--    1 1077     1040        65815 Jul 01  2017 notification_Ingushetija_Resp_2017060100_2017070100_002.xml.zip\n",
      "-rw-rw-r--    1 1077     1040       185063 Jul 01  2017 notification_Ingushetija_Resp_2017060100_2017070100_003.xml.zip\n",
      "-rw-rw-r--    1 1077     1040       214138 Jul 01  2017 notification_Ingushetija_Resp_2017060100_2017070100_004.xml.zip\n",
      "-rw-rw-r--    1 1077     1040       603926 Jul 01  2017 notification_Ingushetija_Resp_2017060100_2017070100_005.xml.zip\n",
      "-rw-rw-r--    1 1077     1040      3461527 Aug 05  2017 notification_Ingushetija_Resp_2017070100_2017080100_001.xml.zip\n",
      "-rw-rw-r--    1 1077     1040        24777 Aug 05  2017 notification_Ingushetija_Resp_2017070100_2017080100_002.xml.zip\n",
      "-rw-rw-r--    1 1077     1040       154159 Aug 05  2017 notification_Ingushetija_Resp_2017070100_2017080100_003.xml.zip\n",
      "-rw-rw-r--    1 1077     1040       170783 Aug 05  2017 notification_Ingushetija_Resp_2017070100_2017080100_004.xml.zip\n",
      "-rw-rw-r--    1 1077     1040       622299 Aug 05  2017 notification_Ingushetija_Resp_2017070100_2017080100_005.xml.zip\n",
      "-rw-rw-r--    1 1077     1040      3308921 Sep 02  2017 notification_Ingushetija_Resp_2017080100_2017090100_001.xml.zip\n",
      "-rw-rw-r--    1 1077     1040        59997 Sep 02  2017 notification_Ingushetija_Resp_2017080100_2017090100_002.xml.zip\n",
      "-rw-rw-r--    1 1077     1040       236840 Sep 02  2017 notification_Ingushetija_Resp_2017080100_2017090100_003.xml.zip\n",
      "-rw-rw-r--    1 1077     1040       116880 Sep 02  2017 notification_Ingushetija_Resp_2017080100_2017090100_004.xml.zip\n",
      "-rw-rw-r--    1 1077     1040       817260 Sep 02  2017 notification_Ingushetija_Resp_2017080100_2017090100_005.xml.zip\n",
      "-rw-rw-r--    1 1077     1040      3802662 Oct 07  2017 notification_Ingushetija_Resp_2017090100_2017100100_001.xml.zip\n",
      "-rw-rw-r--    1 1077     1040        25311 Oct 07  2017 notification_Ingushetija_Resp_2017090100_2017100100_002.xml.zip\n",
      "-rw-rw-r--    1 1077     1040       162224 Oct 07  2017 notification_Ingushetija_Resp_2017090100_2017100100_003.xml.zip\n",
      "-rw-rw-r--    1 1077     1040       162810 Oct 07  2017 notification_Ingushetija_Resp_2017090100_2017100100_004.xml.zip\n",
      "-rw-rw-r--    1 1077     1040       611434 Oct 07  2017 notification_Ingushetija_Resp_2017090100_2017100100_005.xml.zip\n",
      "-rw-rw-r--    1 1077     1040      4519098 Nov 04  2017 notification_Ingushetija_Resp_2017100100_2017110100_001.xml.zip\n",
      "-rw-rw-r--    1 1077     1040        71281 Nov 04  2017 notification_Ingushetija_Resp_2017100100_2017110100_002.xml.zip\n",
      "-rw-rw-r--    1 1077     1040       179667 Nov 04  2017 notification_Ingushetija_Resp_2017100100_2017110100_003.xml.zip\n",
      "-rw-rw-r--    1 1077     1040       310790 Nov 04  2017 notification_Ingushetija_Resp_2017100100_2017110100_004.xml.zip\n",
      "-rw-rw-r--    1 1077     1040      1094258 Nov 04  2017 notification_Ingushetija_Resp_2017100100_2017110100_005.xml.zip\n",
      "-rw-rw-r--    1 1077     1040      3463242 Dec 02  2017 notification_Ingushetija_Resp_2017110100_2017120100_001.xml.zip\n",
      "-rw-rw-r--    1 1077     1040        91571 Dec 02  2017 notification_Ingushetija_Resp_2017110100_2017120100_002.xml.zip\n",
      "-rw-rw-r--    1 1077     1040       272233 Dec 02  2017 notification_Ingushetija_Resp_2017110100_2017120100_003.xml.zip\n",
      "-rw-rw-r--    1 1077     1040       264211 Dec 02  2017 notification_Ingushetija_Resp_2017110100_2017120100_004.xml.zip\n",
      "-rw-rw-r--    1 1077     1040       773387 Dec 02  2017 notification_Ingushetija_Resp_2017110100_2017120100_005.xml.zip\n",
      "-rw-rw-r--    1 1077     1040         5947 Dec 02  2017 notification_Ingushetija_Resp_2017110100_2017120100_006.xml.zip\n",
      "-rw-rw-r--    1 1077     1040      4674608 Jan 06  2018 notification_Ingushetija_Resp_2017120100_2018010100_001.xml.zip\n",
      "-rw-rw-r--    1 1077     1040       138032 Jan 06  2018 notification_Ingushetija_Resp_2017120100_2018010100_002.xml.zip\n",
      "-rw-rw-r--    1 1077     1040       287663 Jan 06  2018 notification_Ingushetija_Resp_2017120100_2018010100_003.xml.zip\n",
      "-rw-rw-r--    1 1077     1040       156022 Jan 06  2018 notification_Ingushetija_Resp_2017120100_2018010100_004.xml.zip\n",
      "-rw-rw-r--    1 1077     1040       947799 Jan 06  2018 notification_Ingushetija_Resp_2017120100_2018010100_005.xml.zip\n",
      "-rw-rw-r--    1 1077     1040         6199 Jan 06  2018 notification_Ingushetija_Resp_2017120100_2018010100_006.xml.zip\n",
      "-rw-rw-r--    1 1077     1040       571346 Feb 03  2018 notification_Ingushetija_Resp_2018010100_2018020100_001.xml.zip\n",
      "-rw-rw-r--    1 1077     1040         5002 Feb 03  2018 notification_Ingushetija_Resp_2018010100_2018020100_002.xml.zip\n",
      "-rw-rw-r--    1 1077     1040        71720 Feb 03  2018 notification_Ingushetija_Resp_2018010100_2018020100_003.xml.zip\n",
      "-rw-rw-r--    1 1077     1040        69320 Feb 03  2018 notification_Ingushetija_Resp_2018010100_2018020100_004.xml.zip\n",
      "-rw-rw-r--    1 1077     1040       566284 Feb 03  2018 notification_Ingushetija_Resp_2018010100_2018020100_005.xml.zip\n",
      "-rw-rw-r--    1 1077     1040      3061413 Mar 03  2018 notification_Ingushetija_Resp_2018020100_2018030100_001.xml.zip\n",
      "-rw-rw-r--    1 1077     1040        25215 Mar 03  2018 notification_Ingushetija_Resp_2018020100_2018030100_002.xml.zip\n",
      "-rw-rw-r--    1 1077     1040        87288 Mar 03  2018 notification_Ingushetija_Resp_2018020100_2018030100_003.xml.zip\n",
      "-rw-rw-r--    1 1077     1040        22553 Mar 03  2018 notification_Ingushetija_Resp_2018020100_2018030100_004.xml.zip\n",
      "-rw-rw-r--    1 1077     1040       313729 Mar 03  2018 notification_Ingushetija_Resp_2018020100_2018030100_005.xml.zip\n",
      "-rw-rw-r--    1 1077     1040      3987096 Apr 07  2018 notification_Ingushetija_Resp_2018030100_2018040100_001.xml.zip\n",
      "-rw-rw-r--    1 1077     1040       140443 Apr 07  2018 notification_Ingushetija_Resp_2018030100_2018040100_002.xml.zip\n",
      "-rw-rw-r--    1 1077     1040        98699 Apr 07  2018 notification_Ingushetija_Resp_2018030100_2018040100_003.xml.zip\n",
      "-rw-rw-r--    1 1077     1040        84689 Apr 07  2018 notification_Ingushetija_Resp_2018030100_2018040100_004.xml.zip\n",
      "-rw-rw-r--    1 1077     1040       657603 Apr 07  2018 notification_Ingushetija_Resp_2018030100_2018040100_005.xml.zip\n",
      "-rw-r--r--    1 1077     1040      4677729 May 05  2018 notification_Ingushetija_Resp_2018040100_2018050100_001.xml.zip\n",
      "-rw-r--r--    1 1077     1040        81742 May 05  2018 notification_Ingushetija_Resp_2018040100_2018050100_002.xml.zip\n",
      "-rw-r--r--    1 1077     1040       211719 May 05  2018 notification_Ingushetija_Resp_2018040100_2018050100_003.xml.zip\n",
      "-rw-r--r--    1 1077     1040         5587 May 05  2018 notification_Ingushetija_Resp_2018040100_2018050100_004.xml.zip\n",
      "-rw-r--r--    1 1077     1040       137184 May 05  2018 notification_Ingushetija_Resp_2018040100_2018050100_005.xml.zip\n",
      "-rw-r--r--    1 1077     1040       783879 May 05  2018 notification_Ingushetija_Resp_2018040100_2018050100_006.xml.zip\n",
      "-rw-r--r--    1 1077     1040      4332051 Jun 02  2018 notification_Ingushetija_Resp_2018050100_2018060100_001.xml.zip\n",
      "-rw-r--r--    1 1077     1040        45984 Jun 02  2018 notification_Ingushetija_Resp_2018050100_2018060100_002.xml.zip\n",
      "-rw-r--r--    1 1077     1040       232253 Jun 02  2018 notification_Ingushetija_Resp_2018050100_2018060100_003.xml.zip\n",
      "-rw-r--r--    1 1077     1040       144371 Jun 02  2018 notification_Ingushetija_Resp_2018050100_2018060100_004.xml.zip\n",
      "-rw-r--r--    1 1077     1040      1135045 Jun 02  2018 notification_Ingushetija_Resp_2018050100_2018060100_005.xml.zip\n",
      "-rw-r--r--    1 1077     1040      3932661 Jul 07  2018 notification_Ingushetija_Resp_2018060100_2018070100_001.xml.zip\n",
      "-rw-r--r--    1 1077     1040        64477 Jul 07  2018 notification_Ingushetija_Resp_2018060100_2018070100_002.xml.zip\n",
      "-rw-r--r--    1 1077     1040       275141 Jul 07  2018 notification_Ingushetija_Resp_2018060100_2018070100_003.xml.zip\n",
      "-rw-r--r--    1 1077     1040       154346 Jul 07  2018 notification_Ingushetija_Resp_2018060100_2018070100_004.xml.zip\n",
      "-rw-r--r--    1 1077     1040       873947 Jul 07  2018 notification_Ingushetija_Resp_2018060100_2018070100_005.xml.zip\n",
      "-rw-r--r--    1 1077     1040       322856 Jul 04  2018 notification_Ingushetija_Resp_2018062900_2018063000_001.xml.zip\n",
      "-rw-r--r--    1 1077     1040        21864 Jul 04  2018 notification_Ingushetija_Resp_2018062900_2018063000_002.xml.zip\n",
      "-rw-r--r--    1 1077     1040        18936 Jul 04  2018 notification_Ingushetija_Resp_2018062900_2018063000_003.xml.zip\n",
      "-rw-r--r--    1 1077     1040        92149 Jul 04  2018 notification_Ingushetija_Resp_2018062900_2018063000_004.xml.zip\n",
      "-rw-r--r--    1 1077     1040      4349299 Aug 04  2018 notification_Ingushetija_Resp_2018070100_2018080100_001.xml.zip\n",
      "-rw-r--r--    1 1077     1040        86033 Aug 04  2018 notification_Ingushetija_Resp_2018070100_2018080100_002.xml.zip\n",
      "-rw-r--r--    1 1077     1040         6231 Aug 04  2018 notification_Ingushetija_Resp_2018070100_2018080100_003.xml.zip\n",
      "-rw-r--r--    1 1077     1040       232878 Aug 04  2018 notification_Ingushetija_Resp_2018070100_2018080100_004.xml.zip\n",
      "-rw-r--r--    1 1077     1040       187089 Aug 04  2018 notification_Ingushetija_Resp_2018070100_2018080100_005.xml.zip\n",
      "-rw-r--r--    1 1077     1040       856589 Aug 04  2018 notification_Ingushetija_Resp_2018070100_2018080100_006.xml.zip\n",
      "-rw-r--r--    1 1077     1040      4525141 Sep 01  2018 notification_Ingushetija_Resp_2018080100_2018090100_001.xml.zip\n",
      "-rw-r--r--    1 1077     1040       115643 Sep 01  2018 notification_Ingushetija_Resp_2018080100_2018090100_002.xml.zip\n",
      "-rw-r--r--    1 1077     1040       217301 Sep 01  2018 notification_Ingushetija_Resp_2018080100_2018090100_003.xml.zip\n",
      "-rw-r--r--    1 1077     1040       393139 Sep 01  2018 notification_Ingushetija_Resp_2018080100_2018090100_004.xml.zip\n",
      "-rw-r--r--    1 1077     1040       950739 Sep 01  2018 notification_Ingushetija_Resp_2018080100_2018090100_005.xml.zip\n",
      "-rw-r--r--    1 1077     1040         7000 Sep 01  2018 notification_Ingushetija_Resp_2018080100_2018090100_006.xml.zip\n",
      "-rw-r--r--    1 1077     1040      4417109 Oct 06  2018 notification_Ingushetija_Resp_2018090100_2018100100_001.xml.zip\n",
      "-rw-r--r--    1 1077     1040        54503 Oct 06  2018 notification_Ingushetija_Resp_2018090100_2018100100_002.xml.zip\n",
      "-rw-r--r--    1 1077     1040         6238 Oct 06  2018 notification_Ingushetija_Resp_2018090100_2018100100_003.xml.zip\n",
      "-rw-r--r--    1 1077     1040       195216 Oct 06  2018 notification_Ingushetija_Resp_2018090100_2018100100_004.xml.zip\n",
      "-rw-r--r--    1 1077     1040       143933 Oct 06  2018 notification_Ingushetija_Resp_2018090100_2018100100_005.xml.zip\n",
      "-rw-r--r--    1 1077     1040       866613 Oct 06  2018 notification_Ingushetija_Resp_2018090100_2018100100_006.xml.zip\n",
      "-rw-r--r--    1 1077     1040      3770371 Nov 13  2018 notification_Ingushetija_Resp_2018100100_2018110100_001.xml.zip\n",
      "-rw-r--r--    1 1077     1040        30178 Nov 13  2018 notification_Ingushetija_Resp_2018100100_2018110100_002.xml.zip\n",
      "-rw-r--r--    1 1077     1040        12445 Nov 13  2018 notification_Ingushetija_Resp_2018100100_2018110100_003.xml.zip\n",
      "-rw-r--r--    1 1077     1040       233164 Nov 13  2018 notification_Ingushetija_Resp_2018100100_2018110100_004.xml.zip\n",
      "-rw-r--r--    1 1077     1040       169474 Nov 13  2018 notification_Ingushetija_Resp_2018100100_2018110100_005.xml.zip\n",
      "-rw-r--r--    1 1077     1040       917708 Nov 13  2018 notification_Ingushetija_Resp_2018100100_2018110100_006.xml.zip\n",
      "-rw-r--r--    1 1077     1040      3611768 Dec 03  2018 notification_Ingushetija_Resp_2018110100_2018120100_001.xml.zip\n",
      "-rw-r--r--    1 1077     1040        60721 Dec 03  2018 notification_Ingushetija_Resp_2018110100_2018120100_002.xml.zip\n",
      "-rw-r--r--    1 1077     1040       159465 Dec 03  2018 notification_Ingushetija_Resp_2018110100_2018120100_003.xml.zip\n",
      "-rw-r--r--    1 1077     1040       136515 Dec 03  2018 notification_Ingushetija_Resp_2018110100_2018120100_004.xml.zip\n",
      "-rw-r--r--    1 1077     1040       875036 Dec 03  2018 notification_Ingushetija_Resp_2018110100_2018120100_005.xml.zip\n",
      "-rw-r--r--    1 1077     1040      6461375 Jan 06  2019 notification_Ingushetija_Resp_2018120100_2019010100_001.xml.zip\n",
      "-rw-r--r--    1 1077     1040        72469 Jan 06  2019 notification_Ingushetija_Resp_2018120100_2019010100_002.xml.zip\n",
      "-rw-r--r--    1 1077     1040       250154 Jan 06  2019 notification_Ingushetija_Resp_2018120100_2019010100_003.xml.zip\n",
      "-rw-r--r--    1 1077     1040       224294 Jan 06  2019 notification_Ingushetija_Resp_2018120100_2019010100_004.xml.zip\n",
      "-rw-r--r--    1 1077     1040      1110624 Jan 06  2019 notification_Ingushetija_Resp_2018120100_2019010100_005.xml.zip\n",
      "-rw-r--r--    1 1077     1040      1539279 Sep 25  2019 notification_Ingushetija_Resp_2019010100_2019020100_001.xml.zip\n",
      "-rw-r--r--    1 1077     1040         6007 Sep 25  2019 notification_Ingushetija_Resp_2019010100_2019020100_002.xml.zip\n",
      "-rw-r--r--    1 1077     1040       286720 Sep 25  2019 notification_Ingushetija_Resp_2019010100_2019020100_003.xml.zip\n",
      "-rw-r--r--    1 1077     1040       821544 Sep 25  2019 notification_Ingushetija_Resp_2019010100_2019020100_004.xml.zip\n",
      "-rw-r--r--    1 1077     1040      3487042 Sep 27  2019 notification_Ingushetija_Resp_2019020100_2019030100_001.xml.zip\n",
      "-rw-r--r--    1 1077     1040        66985 Sep 27  2019 notification_Ingushetija_Resp_2019020100_2019030100_002.xml.zip\n",
      "-rw-r--r--    1 1077     1040         6111 Sep 27  2019 notification_Ingushetija_Resp_2019020100_2019030100_003.xml.zip\n",
      "-rw-r--r--    1 1077     1040        64166 Sep 27  2019 notification_Ingushetija_Resp_2019020100_2019030100_004.xml.zip\n",
      "-rw-r--r--    1 1077     1040       123394 Sep 27  2019 notification_Ingushetija_Resp_2019020100_2019030100_005.xml.zip\n",
      "-rw-r--r--    1 1077     1040       329712 Sep 27  2019 notification_Ingushetija_Resp_2019020100_2019030100_006.xml.zip\n",
      "-rw-r--r--    1 1077     1040      4626753 Sep 30  2019 notification_Ingushetija_Resp_2019030100_2019040100_001.xml.zip\n",
      "-rw-r--r--    1 1077     1040        30634 Sep 30  2019 notification_Ingushetija_Resp_2019030100_2019040100_002.xml.zip\n",
      "-rw-r--r--    1 1077     1040        12143 Sep 30  2019 notification_Ingushetija_Resp_2019030100_2019040100_003.xml.zip\n",
      "-rw-r--r--    1 1077     1040         9576 Sep 30  2019 notification_Ingushetija_Resp_2019030100_2019040100_004.xml.zip\n",
      "-rw-r--r--    1 1077     1040       123143 Sep 30  2019 notification_Ingushetija_Resp_2019030100_2019040100_005.xml.zip\n",
      "-rw-r--r--    1 1077     1040       629722 Sep 30  2019 notification_Ingushetija_Resp_2019030100_2019040100_006.xml.zip\n",
      "-rw-r--r--    1 1077     1040      6245467 Oct 02  2019 notification_Ingushetija_Resp_2019040100_2019050100_001.xml.zip\n",
      "-rw-r--r--    1 1077     1040       102024 Oct 02  2019 notification_Ingushetija_Resp_2019040100_2019050100_002.xml.zip\n",
      "-rw-r--r--    1 1077     1040        30730 Oct 02  2019 notification_Ingushetija_Resp_2019040100_2019050100_003.xml.zip\n",
      "-rw-r--r--    1 1077     1040         1209 Oct 02  2019 notification_Ingushetija_Resp_2019040100_2019050100_004.xml.zip\n",
      "-rw-r--r--    1 1077     1040       288089 Oct 02  2019 notification_Ingushetija_Resp_2019040100_2019050100_005.xml.zip\n",
      "-rw-r--r--    1 1077     1040      1165784 Oct 02  2019 notification_Ingushetija_Resp_2019040100_2019050100_006.xml.zip\n",
      "-rw-r--r--    1 1077     1040      4509228 Oct 01  2019 notification_Ingushetija_Resp_2019050100_2019060100_001.xml.zip\n",
      "-rw-r--r--    1 1077     1040        31016 Oct 01  2019 notification_Ingushetija_Resp_2019050100_2019060100_002.xml.zip\n",
      "-rw-r--r--    1 1077     1040        23665 Oct 01  2019 notification_Ingushetija_Resp_2019050100_2019060100_003.xml.zip\n",
      "-rw-r--r--    1 1077     1040       186666 Oct 01  2019 notification_Ingushetija_Resp_2019050100_2019060100_004.xml.zip\n",
      "-rw-r--r--    1 1077     1040      1243981 Oct 01  2019 notification_Ingushetija_Resp_2019050100_2019060100_005.xml.zip\n",
      "-rw-r--r--    1 1077     1040         7193 Oct 01  2019 notification_Ingushetija_Resp_2019050100_2019060100_006.xml.zip\n",
      "-rw-r--r--    1 1077     1040      3351985 Oct 03  2019 notification_Ingushetija_Resp_2019060100_2019070100_001.xml.zip\n",
      "-rw-r--r--    1 1077     1040        51282 Oct 03  2019 notification_Ingushetija_Resp_2019060100_2019070100_002.xml.zip\n",
      "-rw-r--r--    1 1077     1040         5920 Oct 03  2019 notification_Ingushetija_Resp_2019060100_2019070100_003.xml.zip\n",
      "-rw-r--r--    1 1077     1040       260656 Oct 03  2019 notification_Ingushetija_Resp_2019060100_2019070100_004.xml.zip\n",
      "-rw-r--r--    1 1077     1040       768578 Oct 03  2019 notification_Ingushetija_Resp_2019060100_2019070100_005.xml.zip\n",
      "-rw-r--r--    1 1077     1040      4702070 Oct 03  2019 notification_Ingushetija_Resp_2019070100_2019080100_001.xml.zip\n",
      "-rw-r--r--    1 1077     1040       101189 Oct 03  2019 notification_Ingushetija_Resp_2019070100_2019080100_002.xml.zip\n",
      "-rw-r--r--    1 1077     1040       142955 Oct 03  2019 notification_Ingushetija_Resp_2019070100_2019080100_003.xml.zip\n",
      "-rw-r--r--    1 1077     1040         4760 Oct 03  2019 notification_Ingushetija_Resp_2019070100_2019080100_004.xml.zip\n",
      "-rw-r--r--    1 1077     1040       301055 Oct 03  2019 notification_Ingushetija_Resp_2019070100_2019080100_005.xml.zip\n",
      "-rw-r--r--    1 1077     1040       812505 Oct 03  2019 notification_Ingushetija_Resp_2019070100_2019080100_006.xml.zip\n",
      "-rw-r--r--    1 1077     1040         7209 Oct 03  2019 notification_Ingushetija_Resp_2019070100_2019080100_007.xml.zip\n",
      "-rw-r--r--    1 1077     1040      3984203 Oct 04  2019 notification_Ingushetija_Resp_2019080100_2019090100_001.xml.zip\n",
      "-rw-r--r--    1 1077     1040        32028 Oct 04  2019 notification_Ingushetija_Resp_2019080100_2019090100_002.xml.zip\n",
      "-rw-r--r--    1 1077     1040        36308 Oct 04  2019 notification_Ingushetija_Resp_2019080100_2019090100_003.xml.zip\n",
      "-rw-r--r--    1 1077     1040       461808 Oct 04  2019 notification_Ingushetija_Resp_2019080100_2019090100_004.xml.zip\n",
      "-rw-r--r--    1 1077     1040       930779 Oct 04  2019 notification_Ingushetija_Resp_2019080100_2019090100_005.xml.zip\n",
      "-rw-r--r--    1 1077     1040      4429662 Oct 07  2019 notification_Ingushetija_Resp_2019090100_2019100100_001.xml.zip\n",
      "-rw-r--r--    1 1077     1040        58827 Oct 07  2019 notification_Ingushetija_Resp_2019090100_2019100100_002.xml.zip\n",
      "-rw-r--r--    1 1077     1040        30662 Oct 07  2019 notification_Ingushetija_Resp_2019090100_2019100100_003.xml.zip\n",
      "-rw-r--r--    1 1077     1040       288847 Oct 07  2019 notification_Ingushetija_Resp_2019090100_2019100100_004.xml.zip\n",
      "-rw-r--r--    1 1077     1040       921215 Oct 07  2019 notification_Ingushetija_Resp_2019090100_2019100100_005.xml.zip\n",
      "-rw-r--r--    1 1077     1080      4005057 Nov 02  2019 notification_Ingushetija_Resp_2019100100_2019110100_001.xml.zip\n",
      "-rw-r--r--    1 1077     1080       113670 Nov 02  2019 notification_Ingushetija_Resp_2019100100_2019110100_002.xml.zip\n",
      "-rw-r--r--    1 1077     1080        31754 Nov 02  2019 notification_Ingushetija_Resp_2019100100_2019110100_003.xml.zip\n",
      "-rw-r--r--    1 1077     1080       265454 Nov 02  2019 notification_Ingushetija_Resp_2019100100_2019110100_004.xml.zip\n",
      "-rw-r--r--    1 1077     1080      1059630 Nov 02  2019 notification_Ingushetija_Resp_2019100100_2019110100_005.xml.zip\n",
      "-rw-r--r--    1 1077     1080      4975473 Dec 07  2019 notification_Ingushetija_Resp_2019110100_2019120100_001.xml.zip\n",
      "-rw-r--r--    1 1077     1080        34542 Dec 07  2019 notification_Ingushetija_Resp_2019110100_2019120100_002.xml.zip\n",
      "-rw-r--r--    1 1077     1080        24709 Dec 07  2019 notification_Ingushetija_Resp_2019110100_2019120100_003.xml.zip\n",
      "-rw-r--r--    1 1077     1080       384808 Dec 07  2019 notification_Ingushetija_Resp_2019110100_2019120100_004.xml.zip\n",
      "-rw-r--r--    1 1077     1080      1139431 Dec 07  2019 notification_Ingushetija_Resp_2019110100_2019120100_005.xml.zip\n",
      "-rw-r--r--    1 1077     1080      2562280 Jan 04  2020 notification_Ingushetija_Resp_2019120100_2020010100_001.xml.zip\n",
      "-rw-r--r--    1 1077     1080        77119 Jan 04  2020 notification_Ingushetija_Resp_2019120100_2020010100_002.xml.zip\n",
      "-rw-r--r--    1 1077     1080        62360 Jan 04  2020 notification_Ingushetija_Resp_2019120100_2020010100_003.xml.zip\n",
      "-rw-r--r--    1 1077     1080        79335 Jan 04  2020 notification_Ingushetija_Resp_2019120100_2020010100_004.xml.zip\n",
      "-rw-r--r--    1 1077     1080       824820 Jan 04  2020 notification_Ingushetija_Resp_2019120100_2020010100_005.xml.zip\n",
      "-rw-r--r--    1 1077     1080       523652 Feb 01  2020 notification_Ingushetija_Resp_2020010100_2020020100_001.xml.zip\n",
      "-rw-r--r--    1 1077     1080        13345 Feb 01  2020 notification_Ingushetija_Resp_2020010100_2020020100_002.xml.zip\n",
      "-rw-r--r--    1 1077     1080         6468 Feb 01  2020 notification_Ingushetija_Resp_2020010100_2020020100_003.xml.zip\n",
      "-rw-r--r--    1 1077     1080       150113 Feb 01  2020 notification_Ingushetija_Resp_2020010100_2020020100_004.xml.zip\n",
      "-rw-r--r--    1 1077     1080      2450759 Mar 07  2020 notification_Ingushetija_Resp_2020020100_2020030100_001.xml.zip\n",
      "-rw-r--r--    1 1077     1080        64172 Mar 07  2020 notification_Ingushetija_Resp_2020020100_2020030100_002.xml.zip\n",
      "-rw-r--r--    1 1077     1080         6630 Mar 07  2020 notification_Ingushetija_Resp_2020020100_2020030100_003.xml.zip\n",
      "-rw-r--r--    1 1077     1080        64532 Mar 07  2020 notification_Ingushetija_Resp_2020020100_2020030100_004.xml.zip\n",
      "-rw-r--r--    1 1077     1080       254083 Mar 07  2020 notification_Ingushetija_Resp_2020020100_2020030100_005.xml.zip\n",
      "-rw-r--r--    1 1077     1080      7351611 Apr 04  2020 notification_Ingushetija_Resp_2020030100_2020040100_001.xml.zip\n",
      "-rw-r--r--    1 1077     1080       166387 Apr 04  2020 notification_Ingushetija_Resp_2020030100_2020040100_002.xml.zip\n",
      "-rw-r--r--    1 1077     1080        43874 Apr 04  2020 notification_Ingushetija_Resp_2020030100_2020040100_003.xml.zip\n",
      "-rw-r--r--    1 1077     1080       325624 Apr 04  2020 notification_Ingushetija_Resp_2020030100_2020040100_004.xml.zip\n",
      "-rw-r--r--    1 1077     1080       944441 Apr 04  2020 notification_Ingushetija_Resp_2020030100_2020040100_005.xml.zip\n",
      "-rw-r--r--    1 1077     1080         7409 Apr 04  2020 notification_Ingushetija_Resp_2020030100_2020040100_006.xml.zip\n",
      "-rw-r--r--    1 1077     1080      5114753 May 02  2020 notification_Ingushetija_Resp_2020040100_2020050100_001.xml.zip\n",
      "-rw-r--r--    1 1077     1080       109422 May 02  2020 notification_Ingushetija_Resp_2020040100_2020050100_002.xml.zip\n",
      "-rw-r--r--    1 1077     1080        30387 May 02  2020 notification_Ingushetija_Resp_2020040100_2020050100_003.xml.zip\n",
      "-rw-r--r--    1 1077     1080       399106 May 02  2020 notification_Ingushetija_Resp_2020040100_2020050100_004.xml.zip\n",
      "-rw-r--r--    1 1077     1080      1504214 May 02  2020 notification_Ingushetija_Resp_2020040100_2020050100_005.xml.zip\n",
      "-rw-r--r--    1 1077     1080      1765866 Jun 06  2020 notification_Ingushetija_Resp_2020050100_2020060100_001.xml.zip\n",
      "-rw-r--r--    1 1077     1080        85100 Jun 06  2020 notification_Ingushetija_Resp_2020050100_2020060100_002.xml.zip\n",
      "-rw-r--r--    1 1077     1080        12164 Jun 06  2020 notification_Ingushetija_Resp_2020050100_2020060100_003.xml.zip\n",
      "-rw-r--r--    1 1077     1080       244409 Jun 06  2020 notification_Ingushetija_Resp_2020050100_2020060100_004.xml.zip\n",
      "-rw-r--r--    1 1077     1080       731455 Jun 06  2020 notification_Ingushetija_Resp_2020050100_2020060100_005.xml.zip\n",
      "-rw-r--r--    1 1077     1080      3620611 Jul 04  2020 notification_Ingushetija_Resp_2020060100_2020070100_001.xml.zip\n",
      "-rw-r--r--    1 1077     1080        52440 Jul 04  2020 notification_Ingushetija_Resp_2020060100_2020070100_002.xml.zip\n",
      "-rw-r--r--    1 1077     1080         6284 Jul 04  2020 notification_Ingushetija_Resp_2020060100_2020070100_003.xml.zip\n",
      "-rw-r--r--    1 1077     1080       332056 Jul 04  2020 notification_Ingushetija_Resp_2020060100_2020070100_004.xml.zip\n",
      "-rw-r--r--    1 1077     1080       533504 Jul 04  2020 notification_Ingushetija_Resp_2020060100_2020070100_005.xml.zip\n",
      "-rw-r--r--    1 1077     1080      2852436 Aug 01  2020 notification_Ingushetija_Resp_2020070100_2020080100_001.xml.zip\n",
      "-rw-r--r--    1 1077     1080        32297 Aug 01  2020 notification_Ingushetija_Resp_2020070100_2020080100_002.xml.zip\n",
      "-rw-r--r--    1 1077     1080        13140 Aug 01  2020 notification_Ingushetija_Resp_2020070100_2020080100_003.xml.zip\n",
      "-rw-r--r--    1 1077     1080       301936 Aug 01  2020 notification_Ingushetija_Resp_2020070100_2020080100_004.xml.zip\n",
      "-rw-r--r--    1 1077     1080       679591 Aug 01  2020 notification_Ingushetija_Resp_2020070100_2020080100_005.xml.zip\n",
      "-rw-rw-r--    1 1077     1081      2729699 Sep 05  2020 notification_Ingushetija_Resp_2020080100_2020090100_001.xml.zip\n",
      "-rw-rw-r--    1 1077     1081       110164 Sep 05  2020 notification_Ingushetija_Resp_2020080100_2020090100_002.xml.zip\n",
      "-rw-rw-r--    1 1077     1081        19128 Sep 05  2020 notification_Ingushetija_Resp_2020080100_2020090100_003.xml.zip\n",
      "-rw-rw-r--    1 1077     1081       234520 Sep 05  2020 notification_Ingushetija_Resp_2020080100_2020090100_004.xml.zip\n",
      "-rw-rw-r--    1 1077     1081       509004 Sep 05  2020 notification_Ingushetija_Resp_2020080100_2020090100_005.xml.zip\n",
      "-rw-rw-r--    1 1077     1081      4869217 Oct 05  2020 notification_Ingushetija_Resp_2020090100_2020100100_001.xml.zip\n",
      "-rw-rw-r--    1 1077     1081        72356 Oct 05  2020 notification_Ingushetija_Resp_2020090100_2020100100_002.xml.zip\n",
      "-rw-rw-r--    1 1077     1081        18955 Oct 05  2020 notification_Ingushetija_Resp_2020090100_2020100100_003.xml.zip\n",
      "-rw-rw-r--    1 1077     1081       240757 Oct 05  2020 notification_Ingushetija_Resp_2020090100_2020100100_004.xml.zip\n",
      "-rw-rw-r--    1 1077     1081       827605 Oct 05  2020 notification_Ingushetija_Resp_2020090100_2020100100_005.xml.zip\n",
      "-rw-rw-r--    1 1077     1081      2899364 Nov 07  2020 notification_Ingushetija_Resp_2020100100_2020110100_001.xml.zip\n",
      "-rw-rw-r--    1 1077     1081        42677 Nov 07  2020 notification_Ingushetija_Resp_2020100100_2020110100_002.xml.zip\n",
      "-rw-rw-r--    1 1077     1081        58382 Nov 07  2020 notification_Ingushetija_Resp_2020100100_2020110100_003.xml.zip\n",
      "-rw-rw-r--    1 1077     1081       306118 Nov 07  2020 notification_Ingushetija_Resp_2020100100_2020110100_004.xml.zip\n",
      "-rw-rw-r--    1 1077     1081       915960 Nov 07  2020 notification_Ingushetija_Resp_2020100100_2020110100_005.xml.zip\n",
      "-rw-rw-r--    1 1077     1081      4353417 Dec 05  2020 notification_Ingushetija_Resp_2020110100_2020120100_001.xml.zip\n",
      "-rw-rw-r--    1 1077     1081         8836 Dec 05  2020 notification_Ingushetija_Resp_2020110100_2020120100_002.xml.zip\n",
      "-rw-rw-r--    1 1077     1081        11514 Dec 05  2020 notification_Ingushetija_Resp_2020110100_2020120100_003.xml.zip\n",
      "-rw-rw-r--    1 1077     1081       329919 Dec 05  2020 notification_Ingushetija_Resp_2020110100_2020120100_004.xml.zip\n",
      "-rw-rw-r--    1 1077     1081       722307 Dec 05  2020 notification_Ingushetija_Resp_2020110100_2020120100_005.xml.zip\n",
      "-rw-rw-r--    1 1077     1081      3228851 Feb 03  2021 notification_Ingushetija_Resp_2020120100_2021010100_001.xml.zip\n",
      "-rw-rw-r--    1 1077     1081        64965 Feb 03  2021 notification_Ingushetija_Resp_2020120100_2021010100_002.xml.zip\n",
      "-rw-rw-r--    1 1077     1081         8656 Feb 03  2021 notification_Ingushetija_Resp_2020120100_2021010100_003.xml.zip\n",
      "-rw-rw-r--    1 1077     1081       323474 Feb 03  2021 notification_Ingushetija_Resp_2020120100_2021010100_004.xml.zip\n",
      "-rw-rw-r--    1 1077     1081       806096 Feb 15  2021 notification_Ingushetija_Resp_2021010100_2021013100_001.xml.zip\n",
      "-rw-rw-r--    1 1077     1081        15096 Feb 15  2021 notification_Ingushetija_Resp_2021010100_2021013100_002.xml.zip\n",
      "-rw-rw-r--    1 1077     1081        39156 Feb 15  2021 notification_Ingushetija_Resp_2021010100_2021013100_003.xml.zip\n",
      "-rw-rw-r--    1 1077     1081       806096 Feb 06  2021 notification_Ingushetija_Resp_2021010100_2021020100_001.xml.zip\n",
      "-rw-rw-r--    1 1077     1081        15096 Feb 06  2021 notification_Ingushetija_Resp_2021010100_2021020100_002.xml.zip\n",
      "-rw-rw-r--    1 1077     1081        39156 Feb 06  2021 notification_Ingushetija_Resp_2021010100_2021020100_003.xml.zip\n",
      "-rw-rw-r--    1 1077     1081      3182791 Mar 06  2021 notification_Ingushetija_Resp_2021020100_2021030100_001.xml.zip\n",
      "-rw-rw-r--    1 1077     1081        12337 Mar 06  2021 notification_Ingushetija_Resp_2021020100_2021030100_002.xml.zip\n",
      "-rw-rw-r--    1 1077     1081       238897 Mar 06  2021 notification_Ingushetija_Resp_2021020100_2021030100_003.xml.zip\n",
      "-rw-rw-r--    1 1077     1081      3567636 Apr 03  2021 notification_Ingushetija_Resp_2021030100_2021040100_001.xml.zip\n",
      "-rw-rw-r--    1 1077     1081        44059 Apr 03  2021 notification_Ingushetija_Resp_2021030100_2021040100_002.xml.zip\n",
      "-rw-rw-r--    1 1077     1081        23015 Apr 03  2021 notification_Ingushetija_Resp_2021030100_2021040100_003.xml.zip\n",
      "-rw-rw-r--    1 1077     1081       444946 Apr 03  2021 notification_Ingushetija_Resp_2021030100_2021040100_004.xml.zip\n",
      "-rw-rw-r--    1 1077     1081      4626426 Jun 08 18:44 notification_Ingushetija_Resp_2021040100_2021050100_001.xml.zip\n",
      "-rw-rw-r--    1 1077     1081        52217 Jun 08 18:44 notification_Ingushetija_Resp_2021040100_2021050100_002.xml.zip\n",
      "-rw-rw-r--    1 1077     1081         5772 Jun 08 18:44 notification_Ingushetija_Resp_2021040100_2021050100_003.xml.zip\n",
      "-rw-rw-r--    1 1077     1081       440075 Jun 08 18:44 notification_Ingushetija_Resp_2021040100_2021050100_004.xml.zip\n",
      "-rw-rw-r--    1 1077     1081      2581525 Jun 05 18:27 notification_Ingushetija_Resp_2021050100_2021060100_001.xml.zip\n",
      "-rw-rw-r--    1 1077     1081        50013 Jun 05 18:27 notification_Ingushetija_Resp_2021050100_2021060100_002.xml.zip\n",
      "-rw-rw-r--    1 1077     1081       256312 Jun 05 18:27 notification_Ingushetija_Resp_2021050100_2021060100_003.xml.zip\n",
      "-rw-rw-r--    1 1077     1081       168098 May 17 09:45 notification_Ingushetija_Resp_2021051200_2021051300_001.xml.zip\n",
      "-rw-rw-r--    1 1077     1081         8673 May 17 09:45 notification_Ingushetija_Resp_2021051200_2021051300_002.xml.zip\n",
      "-rw-rw-r--    1 1077     1081      5133674 Jul 03 17:59 notification_Ingushetija_Resp_2021060100_2021070100_001.xml.zip\n",
      "-rw-rw-r--    1 1077     1081        35399 Jul 03 17:59 notification_Ingushetija_Resp_2021060100_2021070100_002.xml.zip\n",
      "-rw-rw-r--    1 1077     1081       604059 Jul 03 17:59 notification_Ingushetija_Resp_2021060100_2021070100_003.xml.zip\n",
      "-rw-rw-r--    1 1077     1081      4663617 Aug 07 18:28 notification_Ingushetija_Resp_2021070100_2021080100_001.xml.zip\n",
      "-rw-rw-r--    1 1077     1081        37609 Aug 07 18:28 notification_Ingushetija_Resp_2021070100_2021080100_002.xml.zip\n",
      "-rw-rw-r--    1 1077     1081       265392 Aug 07 18:28 notification_Ingushetija_Resp_2021070100_2021080100_003.xml.zip\n",
      "-rw-rw-r--    1 1077     1081      3523872 Sep 04 18:52 notification_Ingushetija_Resp_2021080100_2021090100_001.xml.zip\n",
      "-rw-rw-r--    1 1077     1081       155558 Sep 04 18:52 notification_Ingushetija_Resp_2021080100_2021090100_002.xml.zip\n",
      "-rw-rw-r--    1 1077     1081        11778 Sep 04 18:52 notification_Ingushetija_Resp_2021080100_2021090100_003.xml.zip\n",
      "-rw-rw-r--    1 1077     1081       458413 Sep 04 18:52 notification_Ingushetija_Resp_2021080100_2021090100_004.xml.zip\n",
      "-rw-rw-r--    1 1077     1081      3289715 Oct 02 18:00 notification_Ingushetija_Resp_2021090100_2021100100_001.xml.zip\n",
      "-rw-rw-r--    1 1077     1081        39807 Oct 02 18:00 notification_Ingushetija_Resp_2021090100_2021100100_002.xml.zip\n",
      "-rw-rw-r--    1 1077     1081         3631 Oct 02 18:00 notification_Ingushetija_Resp_2021090100_2021100100_003.xml.zip\n",
      "-rw-rw-r--    1 1077     1081       132705 Oct 02 18:00 notification_Ingushetija_Resp_2021090100_2021100100_004.xml.zip\n",
      "drwxr-xr-x    2 1077     1040         4096 Oct 01 03:17 prevMonth\n"
     ]
    }
   ],
   "source": [
    "ftp.dir()"
   ]
  },
  {
   "cell_type": "code",
   "execution_count": 145,
   "metadata": {},
   "outputs": [
    {
     "name": "stdout",
     "output_type": "stream",
     "text": [
      "Succesful downloading\n"
     ]
    }
   ],
   "source": [
    "now_time = datetime.datetime.now() ## для логирования\n",
    "\n",
    "def download(filename, path): ## функция для скачивания файла и логирования результата\n",
    "    try:\n",
    "        with open(path, 'a', encoding='utf-16be') as f: ## сюда добавляем логи\n",
    "            with open(filename, 'wb') as file: ## этот файл скачиваем\n",
    "                ftp.retrbinary(\"RETR \" f'{filename}', file.write)\n",
    "                f.write(f\"\\nUser: {login} \\nAction: download \\nFile: {filename} \\nTime: {now_time}\\n\") #Записываем\n",
    "                print('Succesful downloading')\n",
    "    except:\n",
    "        print('Error')\n",
    "                      \n",
    "download(\n",
    "    filename='notification_Ingushetija_Resp_2021090100_2021100100_004.xml.zip',\n",
    "    path='C:/Users/vokea/OneDrive/Рабочий стол/задание/log.csv')    "
   ]
  },
  {
   "cell_type": "code",
   "execution_count": 146,
   "metadata": {},
   "outputs": [
    {
     "data": {
      "text/plain": [
       "'C:\\\\Users\\\\vokea'"
      ]
     },
     "execution_count": 146,
     "metadata": {},
     "output_type": "execute_result"
    }
   ],
   "source": [
    "os_path=os.getcwd() ## куда сохранился zip-файл (при этом файл с логами по другому пути - path)\n",
    "os_path"
   ]
  },
  {
   "cell_type": "code",
   "execution_count": 147,
   "metadata": {},
   "outputs": [
    {
     "name": "stdout",
     "output_type": "stream",
     "text": [
      "Файл загружен\n"
     ]
    }
   ],
   "source": [
    "path = os.listdir()\n",
    "\n",
    "def check_file(filename):\n",
    "    if filename in path:\n",
    "        print('Файл загружен')\n",
    "    else:\n",
    "        print('Файла нет')\n",
    "\n",
    "check_file(\n",
    "    filename='notification_Ingushetija_Resp_2021090100_2021100100_004.xml.zip')   "
   ]
  },
  {
   "cell_type": "code",
   "execution_count": 148,
   "metadata": {},
   "outputs": [
    {
     "data": {
      "text/plain": [
       "'221 Goodbye.'"
      ]
     },
     "execution_count": 148,
     "metadata": {},
     "output_type": "execute_result"
    }
   ],
   "source": [
    "ftp.quit()"
   ]
  }
 ],
 "metadata": {
  "kernelspec": {
   "display_name": "Python 3",
   "language": "python",
   "name": "python3"
  },
  "language_info": {
   "codemirror_mode": {
    "name": "ipython",
    "version": 3
   },
   "file_extension": ".py",
   "mimetype": "text/x-python",
   "name": "python",
   "nbconvert_exporter": "python",
   "pygments_lexer": "ipython3",
   "version": "3.8.5"
  }
 },
 "nbformat": 4,
 "nbformat_minor": 4
}
